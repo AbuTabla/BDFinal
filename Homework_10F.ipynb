{
  "cells": [
    {
      "cell_type": "markdown",
      "metadata": {},
      "source": [
        "# Start your work here :)\n",
        "# Happy coding ~"
      ]
    },
    {
      "cell_type": "code",
      "execution_count": 1,
      "metadata": {},
      "outputs": [
        {
          "name": "stdout",
          "output_type": "stream",
          "text": [
            "1.6.0\n"
          ]
        }
      ],
      "source": [
        "import os\n",
        "import numpy as np\n",
        "import scipy as sp\n",
        "import matplotlib.pyplot as plt\n",
        "import SciServer.CasJobs as cj\n",
        "\n",
        "print (sp.__version__)\n",
        "cpath = '/home/idies/workspace/Storage/AS_171_205_2021/AS_171_205_2021-Course/data/'"
      ]
    },
    {
      "cell_type": "markdown",
      "metadata": {},
      "source": [
        "## Problem 10.1 ##"
      ]
    },
    {
      "cell_type": "markdown",
      "metadata": {},
      "source": [
        "* Use COVID NYT Database on SciServer to perform the following statistical analysis from a Jupyter notebook"
      ]
    },
    {
      "cell_type": "markdown",
      "metadata": {},
      "source": [
        "### 10.1.1 ###\n",
        "\n",
        "* Select 200 counties in US with highest and lowest population densities. \n",
        "* Extract total population in both categories (sum of highest density and sum of lowest)\n",
        "* Debug Queries"
      ]
    },
    {
      "cell_type": "code",
      "execution_count": 2,
      "metadata": {},
      "outputs": [
        {
          "name": "stdout",
          "output_type": "stream",
          "text": [
            "\n",
            "Top 200 total population: 126557015\n",
            "\n",
            "Bottom 200 total population: 799810\n",
            "\n",
            "Total population: 312471327\n"
          ]
        }
      ],
      "source": [
        "TOP_QUERY = 'SELECT TOP 200 * FROM censusData WHERE county is not null ORDER BY Popdensity DESC'\n",
        "BOTTOM_QUERY = 'SELECT TOP 200 * FROM censusData WHERE county is not null ORDER BY Popdensity ASC'\n",
        "ALL_QUERY = 'SELECT * FROM censusData WHERE county is not null'\n",
        "\n",
        "TOP_200_COUNTIES = '(SELECT TOP 200 county FROM censusData WHERE county is not null ORDER BY Popdensity DESC)'\n",
        "BOTTOM_200_COUNTIES = '(SELECT TOP 200 county FROM censusData WHERE county is not null ORDER BY Popdensity ASC)'\n",
        "def getTop200():\n",
        "    return cj.executeQuery(TOP_QUERY,\"COVIDNYT\")\n",
        "\n",
        "def getBottom200():\n",
        "    return cj.executeQuery(BOTTOM_QUERY,\"COVIDNYT\")\n",
        "\n",
        "def allCounties():\n",
        "    return cj.executeQuery(ALL_QUERY,\"COVIDNYT\")\n",
        "\n",
        "top200 = getTop200() \n",
        "bottom200 = getBottom200() \n",
        "allCounties = allCounties()\n",
        "\n",
        "top200Pop = np.sum(top200['Population'])\n",
        "bottom200Pop = np.sum(bottom200['Population'])\n",
        "\n",
        "totalPop = np.sum(allCounties['Population'])\n",
        "\n",
        "print(\"\\nTop 200 total population: \" + str(top200Pop))\n",
        "print(\"\\nBottom 200 total population: \" + str(bottom200Pop))\n",
        "print(\"\\nTotal population: \" + str(totalPop))\n",
        "\n"
      ]
    },
    {
      "cell_type": "markdown",
      "metadata": {},
      "source": [
        "### 10.1.2 ###\n",
        "\n",
        "* Print 4 different results\n",
        "* 1--> Max infections in top 200\n",
        "* 2--> Max deaths in top 200\n",
        "* 3--> Max infections in bottom 200\n",
        "* 4--> Max deaths in bottom 200"
      ]
    },
    {
      "cell_type": "code",
      "execution_count": 3,
      "metadata": {},
      "outputs": [],
      "source": [
        "def getTop():\n",
        "    # get the time series for the top 200 counties\n",
        "    sql=\"\"\"\n",
        "    select date, sum(cases) cases, sum(deaths) deaths\n",
        "    from StatsC\n",
        "    where fips in (select top 200 fips from censusData order by popdensity desc)\n",
        "    group by date \n",
        "    order by date\n",
        "    \"\"\"\n",
        "    return cj.executeQuery(sql,\"COVIDNYT\")\n",
        "def getBot():\n",
        "    sql=\"\"\"\n",
        "    select date, sum(cases) cases, sum(deaths) deaths\n",
        "    from StatsC\n",
        "    where fips in (select top 200 fips from censusData order by popdensity asc)\n",
        "    group by date\n",
        "    order by date\n",
        "    \"\"\"\n",
        "    return cj.executeQuery(sql,\"COVIDNYT\")\n",
        "top = getTop()\n",
        "bot = getBot()\n",
        "#mi = Max Infections\n",
        "#md = Max Deaths\n",
        "mit = np.argmax(top['cases'])\n",
        "mdt = np.argmax(top['deaths'])\n",
        "mib = np.argmax(bot['cases'])\n",
        "mdb = np.argmax(bot['deaths'])\n",
        "dft = top.iloc[mit]\n",
        "dfb = bot.iloc[mib]"
      ]
    },
    {
      "cell_type": "code",
      "execution_count": 17,
      "metadata": {},
      "outputs": [
        {
          "name": "stdout",
          "output_type": "stream",
          "text": [
            "\u001b[38;2;255;0;0mTop 200 Stats:  \u001b[38;2;255;255;255m\n",
            "\u001b[38;2;0;0;0mdate      4/18/2021 12:00:00 AM\n",
            "cases                  12845561\n",
            "deaths                   241091\n",
            "Name: 450, dtype: object \u001b[38;2;255;255;255m\n",
            "\u001b[38;2;255;0;0mBottom 200 Stats:  \u001b[38;2;255;255;255m\n",
            "\u001b[38;2;0;0;0mdate      4/18/2021 12:00:00 AM\n",
            "cases                     69162\n",
            "deaths                     1256\n",
            "Name: 395, dtype: object \u001b[38;2;255;255;255m\n",
            "\u001b[38;2;29;219;29mMax Infections \u001b[38;2;255;255;255m\u001b[38;2;255;0;0mtop \u001b[38;2;255;255;255m\u001b[38;2;29;219;29m200:  \u001b[38;2;255;255;255m\n",
            "\u001b[38;2;0;0;0m12845561 \u001b[38;2;255;255;255m\n",
            "\u001b[38;2;11;28;217mMax Deaths \u001b[38;2;255;255;255m\u001b[38;2;255;0;0mtop \u001b[38;2;255;255;255m\u001b[38;2;11;28;217m200:  \u001b[38;2;255;255;255m\n",
            "\u001b[38;2;0;0;0m241091 \u001b[38;2;255;255;255m\n",
            "\u001b[38;2;29;219;29mMax Infections \u001b[38;2;255;255;255m\u001b[38;2;255;0;0mbottom \u001b[38;2;255;255;255m\u001b[38;2;29;219;29m200:  \u001b[38;2;255;255;255m\n",
            "\u001b[38;2;0;0;0m69162 \u001b[38;2;255;255;255m\n",
            "\u001b[38;2;11;28;217mMax Deaths \u001b[38;2;255;255;255m\u001b[38;2;255;0;0mbottom \u001b[38;2;255;255;255m\u001b[38;2;11;28;217m200:  \u001b[38;2;255;255;255m\n",
            "\u001b[38;2;0;0;0m1256 \u001b[38;2;255;255;255m\n"
          ]
        }
      ],
      "source": [
        "def colored(r, g, b, text):\n",
        "    return \"\\033[38;2;{};{};{}m{} \\033[38;2;255;255;255m\".format(r, g, b, text)\n",
        "\n",
        "print(colored(255, 0, 0, \"Top 200 Stats: \"))\n",
        "print(colored(0, 0, 0,dft))\n",
        "print(colored(255, 0, 0,\"Bottom 200 Stats: \"))\n",
        "print(colored(0, 0 , 0, dfb))\n",
        "print(colored(29, 219, 29, \"Max Infections\") + colored(255,0,0, \"top\") + colored(29, 219, 29, \"200: \"))\n",
        "print(colored(0 , 0 , 0, top.iloc[mit]['cases']))\n",
        "print(colored(11, 28, 217, \"Max Deaths\") + colored(255,0,0, \"top\") + colored(11, 28, 217, \"200: \"))\n",
        "print(colored(0 , 0 , 0, top.iloc[mdt]['deaths']))\n",
        "print(colored(29, 219, 29, \"Max Infections\") + colored(255,0,0, \"bottom\") + colored(29, 219, 29, \"200: \"))\n",
        "print(colored(0 , 0 , 0, bot.iloc[mib]['cases']))\n",
        "print(colored(11, 28, 217, \"Max Deaths\") + colored(255,0,0, \"bottom\") + colored(11, 28, 217,\"200: \"))\n",
        "print(colored(0 , 0 , 0, bot.iloc[mdb]['deaths']))"
      ]
    },
    {
      "cell_type": "markdown",
      "metadata": {},
      "source": [
        "### 10.1.3 ###\n",
        "\n",
        "* Normalize above values to 100,000 people\n",
        "* Determine difference\n",
        "* Stand Dev"
      ]
    },
    {
      "cell_type": "code",
      "execution_count": 35,
      "metadata": {},
      "outputs": [
        {
          "name": "stdout",
          "output_type": "stream",
          "text": [
            "Top 200 Max (cases, deaths) normalized: (10150, 190)\n",
            "Bottom 200 Max (cases,deaths) normalized: (8647, 157)\n",
            "\n",
            "T-tests\n",
            "\u001b[38;2;255;146;21mCases:  \u001b[38;2;255;255;255m \u001b[38;2;0;0;0m0.00036041234530670695 \u001b[38;2;255;255;255m\n",
            "\u001b[38;2;100;45;212mDeaths:  \u001b[38;2;255;255;255m \u001b[38;2;0;0;0m0.00046677757423528945 \u001b[38;2;255;255;255m\n"
          ]
        }
      ],
      "source": [
        "normTopCases = 100000 * top.iloc[mit]['cases'] / top200Pop\n",
        "normTopDeaths = 100000 * top.iloc[mdt]['deaths'] / top200Pop\n",
        "\n",
        "normBotCases = 100000 * bot.iloc[mib]['cases'] / bottom200Pop\n",
        "normBotDeaths = 1e5 * bot.iloc[mdb]['deaths'] / bottom200Pop\n",
        "print(\"Top 200 Max (cases, deaths) normalized: \" + str((int(normTopCases), int(normTopDeaths))))\n",
        "print(\"Bottom 200 Max (cases,deaths) normalized: \" + str((int(normBotCases), int(normBotDeaths))))\n",
        "stdTopCases = np.std(top['cases']) \n",
        "stdTopDeaths = np.std(top['deaths']) \n",
        "\n",
        "stdBottomCases = np.std(bot['cases']) \n",
        "stdBottomDeaths = np.std(bot['deaths']) \n",
        "\n",
        "tCases = np.abs(normTopCases - normBotCases) / np.sqrt((stdTopCases**2 + stdBottomCases**2))\n",
        "tDeaths = np.abs(normTopDeaths - normBotDeaths) / np.sqrt((stdTopDeaths**2 + stdBottomDeaths**2))\n",
        "\n",
        "print(\"\\nT-tests\")\n",
        "print(colored(255, 146, 21,\"Cases: \"), (colored(0, 0 , 0, tCases)))\n",
        "print(colored(100, 45, 212,\"Deaths: \"), (colored(0, 0 , 0, tDeaths)))"
      ]
    },
    {
      "cell_type": "code",
      "execution_count": null,
      "metadata": {},
      "outputs": [],
      "source": []
    }
  ],
  "metadata": {
    "kernelspec": {
      "display_name": "Python 3.8 (py38)",
      "language": "python",
      "name": "py38"
    },
    "language_info": {
      "codemirror_mode": {
        "name": "ipython",
        "version": 3
      },
      "file_extension": ".py",
      "mimetype": "text/x-python",
      "name": "python",
      "nbconvert_exporter": "python",
      "pygments_lexer": "ipython3",
      "version": "3.8.5"
    }
  },
  "nbformat": 4,
  "nbformat_minor": 4
}
